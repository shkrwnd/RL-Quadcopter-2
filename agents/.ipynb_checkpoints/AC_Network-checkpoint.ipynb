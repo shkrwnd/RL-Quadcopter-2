{
 "cells": [
  {
   "cell_type": "code",
   "execution_count": 2,
   "metadata": {},
   "outputs": [
    {
     "ename": "SyntaxError",
     "evalue": "invalid syntax (<ipython-input-2-ed0720dfde67>, line 62)",
     "output_type": "error",
     "traceback": [
      "\u001b[0;36m  File \u001b[0;32m\"<ipython-input-2-ed0720dfde67>\"\u001b[0;36m, line \u001b[0;32m62\u001b[0m\n\u001b[0;31m    self.get_action_gradients = K.function(inputs=[*self.model.input,K.learning_phase()],outputs=action_gradients)\u001b[0m\n\u001b[0m                                                   ^\u001b[0m\n\u001b[0;31mSyntaxError\u001b[0m\u001b[0;31m:\u001b[0m invalid syntax\n"
     ]
    }
   ],
   "source": [
    "from keras import layers , models , optimizers \n",
    "from keras import backend as K\n",
    "\n",
    "class Actor:\n",
    "    def __init__(self,state_size,action_size,action_low , action_high):\n",
    "        self.state_size = state_size\n",
    "        self.action_size = action_size\n",
    "        self.action_high = action_high\n",
    "        self.action_low = action_low\n",
    "        self.action_range = action_high - action_low\n",
    "        self.model()\n",
    "        \n",
    "    def model(self):\n",
    "        states = layers.Input(shape=(self.state_size,),name='states')\n",
    "        layer1 = layers.Dense(units=32,activation='relu')(states)\n",
    "        layer2 = layers.Dense(units=64,activation='relu')(layer1)\n",
    "        layer3 = layers.Dense(units=32,activation='relu')(layer2)\n",
    "        \n",
    "        norm_action = layers.Dense(units=self.action_size,activation='sigmoid',name='norm_action')(layer3)\n",
    "        output_actions = layers.Lambda(lambda x : (x * self.action_range) + self.action_low,name='output_actions')(norm_action)\n",
    "        \n",
    "        self.model = models.Model(inputs=states,outputs=actions)\n",
    "        \n",
    "        action_gradients = layers.Input(shape=(self.action_size,))\n",
    "        \n",
    "        loss = K.mean(-action_gadients * actions)\n",
    "        \n",
    "        optimizer = optimizers.Adam()\n",
    "        \n",
    "        train = optimizer.get_updates(parametes=self.model.trainable_weights,loss=loss)\n",
    "        self.train_fn = K.function(inputs=[self.model.input,action_gradients,K.learning_phase()],\n",
    "                                  outputs=[],\n",
    "                                  updates=train)\n",
    "        \n",
    "\n",
    "class Critic:\n",
    "    def __init__(self,state_size,action_size):\n",
    "        self.state_size = state_size\n",
    "        self.action_size = action_size\n",
    "        self.model()\n",
    "    def model():\n",
    "        states = layers.Input(shape=(self.state_size,),name='states')\n",
    "        actions = layers.Input(shape=(self.action_size,),name='actions')\n",
    "        \n",
    "        layer1 = layers.Dense(units=32,activation='relu')(states)\n",
    "        layer2 = layers.Dense(units=64,activation='relu')(layer1)\n",
    "        \n",
    "        action1 = layers.Dense(units=32,activation='relu')(actions)\n",
    "        action2 = layers.Dense(units=64,activation='relu')(action1)\n",
    "        \n",
    "        \n",
    "        output = layers.Add()([layer2,action2])\n",
    "        output = layers.Activation('relu')(output)\n",
    "        \n",
    "        q = layers.Dense(units=1,name='q_value')(output)\n",
    "        self.model = models.Model(inputs=[states,actions],outputs=q)\n",
    "        \n",
    "        optimizer = optimizers.Adam()\n",
    "        self.model.compile(optimizer=optimizer,loss='mse')\n",
    "        action_gradients = K.gradients(q,actions)\n",
    "        \n",
    "        self.get_action_gradients = K.function(inputs=[*self.model.input,K.learning_phase()],outputs=action_gradients)\n",
    "          \n"
   ]
  },
  {
   "cell_type": "code",
   "execution_count": null,
   "metadata": {},
   "outputs": [],
   "source": []
  }
 ],
 "metadata": {
  "kernelspec": {
   "display_name": "Python 3",
   "language": "python",
   "name": "python3"
  },
  "language_info": {
   "codemirror_mode": {
    "name": "ipython",
    "version": 2
   },
   "file_extension": ".py",
   "mimetype": "text/x-python",
   "name": "python",
   "nbconvert_exporter": "python",
   "pygments_lexer": "ipython2",
   "version": "2.7.13"
  }
 },
 "nbformat": 4,
 "nbformat_minor": 2
}
